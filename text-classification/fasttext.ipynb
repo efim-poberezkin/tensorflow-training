{
 "cells": [
  {
   "cell_type": "markdown",
   "metadata": {},
   "source": [
    "# User rating based on the review - fasttext"
   ]
  },
  {
   "cell_type": "code",
   "execution_count": 1,
   "metadata": {},
   "outputs": [
    {
     "name": "stderr",
     "output_type": "stream",
     "text": [
      "Using TensorFlow backend.\n"
     ]
    }
   ],
   "source": [
    "import pickle\n",
    "\n",
    "import numpy as np\n",
    "\n",
    "from sklearn.model_selection import train_test_split\n",
    "\n",
    "import tensorflow as tf\n",
    "\n",
    "tf.logging.set_verbosity(tf.logging.ERROR)\n",
    "tf.random.set_random_seed(47)\n",
    "\n",
    "from keras.callbacks import ModelCheckpoint\n",
    "from keras.layers import Dense, Dropout, Embedding, LSTM, Bidirectional\n",
    "from keras.models import Sequential\n",
    "from keras.preprocessing.sequence import pad_sequences\n",
    "from keras.preprocessing.text import Tokenizer\n",
    "from keras.utils import to_categorical"
   ]
  },
  {
   "cell_type": "code",
   "execution_count": 2,
   "metadata": {},
   "outputs": [],
   "source": [
    "max_features = 20000\n",
    "maxlen = 100\n",
    "batch_size = 128\n",
    "epochs = 4"
   ]
  },
  {
   "cell_type": "markdown",
   "metadata": {},
   "source": [
    "Again we'll load our preprocessed text data."
   ]
  },
  {
   "cell_type": "code",
   "execution_count": 3,
   "metadata": {},
   "outputs": [
    {
     "data": {
      "text/plain": [
       "(['потрясающе красивый график космос игра полюбить наличие интересный осмысленный сюжет удобный управление',\n",
       "  'заметный труд область теоретический антропология этнография язык изложение доступный качество перевод достойный замечательный серия этнографический библиотека',\n",
       "  'отличный продолжение отличный игра',\n",
       "  'графика неплохой остальное скучно тупо проехать определенный участок хороший управление вызывать никакой приятный ощущение игра график',\n",
       "  'таки удерживаться написать топ скоро стереть прочитывать ужасный игра star wars empire at war dvd поискать нормальный сюжет стратегия вовсе провал убеждаться браться план игра отстой хороший стратегия эпизод star wars star wars galactic battlegrounds играть понимать'],\n",
       " [5, 5, 5, 3, 1])"
      ]
     },
     "execution_count": 3,
     "metadata": {},
     "output_type": "execute_result"
    }
   ],
   "source": [
    "with open(\"auxiliary/reviews_dataset_preprocessed.pkl\", \"rb\") as f:\n",
    "    X = pickle.load(f)\n",
    "\n",
    "with open(\"auxiliary/reviews_dataset.pkl\", \"rb\") as f:\n",
    "    _, y = pickle.load(f)\n",
    "\n",
    "X[:5], y[:5]"
   ]
  }
 ],
 "metadata": {
  "jupytext": {
   "formats": "ipynb,py:percent"
  },
  "kernelspec": {
   "display_name": "tensorflow-training",
   "language": "python",
   "name": "tensorflow-training"
  },
  "language_info": {
   "codemirror_mode": {
    "name": "ipython",
    "version": 3
   },
   "file_extension": ".py",
   "mimetype": "text/x-python",
   "name": "python",
   "nbconvert_exporter": "python",
   "pygments_lexer": "ipython3",
   "version": "3.7.4"
  }
 },
 "nbformat": 4,
 "nbformat_minor": 4
}
